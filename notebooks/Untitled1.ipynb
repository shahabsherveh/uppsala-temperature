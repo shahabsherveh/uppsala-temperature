{
 "cells": [
  {
   "cell_type": "code",
   "execution_count": null,
   "id": "a5f0b35a-0571-497c-b3f2-66b95eb500f9",
   "metadata": {},
   "outputs": [],
   "source": [
    "import pandas as pd\n",
    "import numpy as np\n",
    "import matplotlib.pyplot as plt\n",
    "import scipy as sp\n",
    "from statsmodels.tsa import tsatools\n",
    "import plotly.express as px"
   ]
  },
  {
   "cell_type": "code",
   "execution_count": null,
   "id": "8e41adcb-3792-489a-ae34-ce8613052b6c",
   "metadata": {},
   "outputs": [],
   "source": [
    "%matplotlib tk"
   ]
  },
  {
   "cell_type": "code",
   "execution_count": null,
   "id": "8647d225-23b5-4241-acb8-8070d2189651",
   "metadata": {},
   "outputs": [],
   "source": [
    "df = pd.read_csv(\"../data/uppsala hourly/data0.csv\", parse_dates=['timestamp'], index_col='timestamp')\n",
    "df = df[['Lufttemperatur']][:\"2024\"]\n",
    "df['month'] = df.index.month\n",
    "df['hour'] = df.index.hour\n",
    "df['year'] = df.index.year\n",
    "\n"
   ]
  },
  {
   "cell_type": "code",
   "execution_count": null,
   "id": "fdf73fd0-48ec-47b4-a8c1-2d4bfbbffc0c",
   "metadata": {},
   "outputs": [],
   "source": [
    "df.head()"
   ]
  },
  {
   "cell_type": "code",
   "execution_count": null,
   "id": "9130cb2c-5c8e-4363-a11e-51d43993b55e",
   "metadata": {},
   "outputs": [],
   "source": [
    "def preprocess(func):\n",
    "    def wrapper(*args, **kwargs):\n",
    "        ts = args[0]\n",
    "        ts.dropna(inplace=True)\n",
    "        results = func(*args, **kwargs)\n",
    "        return results\n",
    "    return wrapper\n",
    "        \n",
    "    ts_preprocessed = ts.dropna()\n",
    "    return ts_preprocessed\n",
    "\n",
    "@preprocess\n",
    "def calc_quantile(ts, q, freq):\n",
    "    quantiles = ts_no_na.resample(freq).apply(lambda x: np.quantile(x,q=q).tolist())\n",
    "    df_quantiles = pd.DataFrame(quantiles.values.tolist(), columns=q, index=quantiles.index)\n",
    "    return df_quantiles\n",
    "\n",
    "@preprocess\n",
    "def calc_variance(ts, freq):\n",
    "    var = ts_no_na.resample(freq).var()\n",
    "    return var\n",
    "@preprocess\n",
    "def calc_mean(ts, freq):\n",
    "    mean = ts_no_na.resample(freq).mean()\n",
    "    return mean\n",
    "\n",
    "@preprocess\n",
    "def calc_skew(ts, freq):\n",
    "    skew = ts_no_na.resample(freq).apply(lambda x:x.skew())\n",
    "    return skew \n",
    "@preprocess\n",
    "def calc_moment(ts, freq, order, center):\n",
    "    moment = ts_no_na.resample(freq).apply(lambda x: sp.stats.moment(x, order=order, center=center))\n",
    "    return moment\n",
    "\n",
    "@preprocess\n",
    "def calc_periodogram(ts):\n",
    "    pg = sp.signal.periodogram(ts,)\n",
    "    ts_pg = pd.Series(pg[1], index=pg[0], name='periodogram')\n",
    "    return ts_pg\n",
    "\n",
    "\n"
   ]
  },
  {
   "cell_type": "code",
   "execution_count": null,
   "id": "aee669a0-48db-4087-a9e3-2c5d023cdf9c",
   "metadata": {},
   "outputs": [],
   "source": [
    "df"
   ]
  },
  {
   "cell_type": "code",
   "execution_count": null,
   "id": "25b1b815-d314-4c55-9e1c-6417102f131e",
   "metadata": {},
   "outputs": [],
   "source": [
    "px.scatter(df, y='Lufttemperatur',facet_col='month',facet_col_wrap=0, trendline='ols', trendline_color_override='red',height=500,)\n",
    "           # trendline_options=dict(frac=.3))"
   ]
  },
  {
   "cell_type": "code",
   "execution_count": null,
   "id": "004ff487-464e-48c4-a57f-a392b5c91261",
   "metadata": {},
   "outputs": [],
   "source": [
    "calc_quantile(ts, np.linspace(0,1,5), '6ME').plot(legend=False)"
   ]
  },
  {
   "cell_type": "code",
   "execution_count": null,
   "id": "5f46dcc8-c4df-4d2f-8daa-b1f2bd970e9b",
   "metadata": {},
   "outputs": [],
   "source": [
    "calc_variance(ts, '10YE').plot()"
   ]
  },
  {
   "cell_type": "code",
   "execution_count": null,
   "id": "ac437d59-7865-46b4-9ca4-172b1de396e7",
   "metadata": {},
   "outputs": [],
   "source": [
    "calc_mean(ts, '10YE').plot()"
   ]
  },
  {
   "cell_type": "code",
   "execution_count": null,
   "id": "e8c24dbf-7952-4e00-ab9f-68acf475bccf",
   "metadata": {},
   "outputs": [],
   "source": [
    "ts.skew()"
   ]
  },
  {
   "cell_type": "code",
   "execution_count": null,
   "id": "fc3d69ee-964a-4f81-9db8-a474e33bf87c",
   "metadata": {},
   "outputs": [],
   "source": [
    "calc_skew(ts, '10YE').plot()"
   ]
  },
  {
   "cell_type": "code",
   "execution_count": null,
   "id": "d9cbbfbd-2518-48be-97cc-035ae0bab58c",
   "metadata": {},
   "outputs": [],
   "source": [
    "calc_moment(ts, freq='10YE', order=8, center=None).plot()"
   ]
  },
  {
   "cell_type": "code",
   "execution_count": null,
   "id": "b51a7459-3fdd-4844-93ee-557d05a0b634",
   "metadata": {},
   "outputs": [],
   "source": []
  }
 ],
 "metadata": {
  "kernelspec": {
   "display_name": "Python 3 (ipykernel)",
   "language": "python",
   "name": "python3"
  },
  "language_info": {
   "codemirror_mode": {
    "name": "ipython",
    "version": 3
   },
   "file_extension": ".py",
   "mimetype": "text/x-python",
   "name": "python",
   "nbconvert_exporter": "python",
   "pygments_lexer": "ipython3",
   "version": "3.12.3"
  }
 },
 "nbformat": 4,
 "nbformat_minor": 5
}
